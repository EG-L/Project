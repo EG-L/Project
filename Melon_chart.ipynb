{
  "nbformat": 4,
  "nbformat_minor": 0,
  "metadata": {
    "colab": {
      "name": "Melon_chart.ipynb",
      "provenance": [],
      "collapsed_sections": [],
      "mount_file_id": "1xlzg1APdGFDH5OyE8VRtNJMaRnIep9AT",
      "authorship_tag": "ABX9TyMoNWQjLGeoF4/jyky/4dPy",
      "include_colab_link": true
    },
    "kernelspec": {
      "name": "python3",
      "display_name": "Python 3"
    },
    "language_info": {
      "name": "python"
    }
  },
  "cells": [
    {
      "cell_type": "markdown",
      "metadata": {
        "id": "view-in-github",
        "colab_type": "text"
      },
      "source": [
        "<a href=\"https://colab.research.google.com/github/EG-L/Project/blob/main/Melon_chart.ipynb\" target=\"_parent\"><img src=\"https://colab.research.google.com/assets/colab-badge.svg\" alt=\"Open In Colab\"/></a>"
      ]
    },
    {
      "cell_type": "code",
      "metadata": {
        "id": "B8a6EJfHvQWI"
      },
      "source": [
        "import pandas as pd"
      ],
      "execution_count": 16,
      "outputs": []
    },
    {
      "cell_type": "code",
      "metadata": {
        "colab": {
          "base_uri": "https://localhost:8080/",
          "height": 555
        },
        "id": "2w0ZIOTwvVv_",
        "outputId": "7ac1bbac-20c1-43db-ca14-6888abcd0e6a"
      },
      "source": [
        "df = pd.read_csv('/content/drive/MyDrive/2021_1~6월 멜론차트/melon_chart.csv')\n",
        "df"
      ],
      "execution_count": 17,
      "outputs": [
        {
          "output_type": "execute_result",
          "data": {
            "text/html": [
              "<div>\n",
              "<style scoped>\n",
              "    .dataframe tbody tr th:only-of-type {\n",
              "        vertical-align: middle;\n",
              "    }\n",
              "\n",
              "    .dataframe tbody tr th {\n",
              "        vertical-align: top;\n",
              "    }\n",
              "\n",
              "    .dataframe thead th {\n",
              "        text-align: right;\n",
              "    }\n",
              "</style>\n",
              "<table border=\"1\" class=\"dataframe\">\n",
              "  <thead>\n",
              "    <tr style=\"text-align: right;\">\n",
              "      <th></th>\n",
              "      <th>month</th>\n",
              "      <th>ranking</th>\n",
              "      <th>title</th>\n",
              "      <th>artist</th>\n",
              "      <th>like</th>\n",
              "      <th>lyric</th>\n",
              "      <th>genre</th>\n",
              "      <th>date</th>\n",
              "    </tr>\n",
              "  </thead>\n",
              "  <tbody>\n",
              "    <tr>\n",
              "      <th>0</th>\n",
              "      <td>1</td>\n",
              "      <td>1월1등</td>\n",
              "      <td>VVS (Feat. JUSTHIS) (Prod. GroovyRoom)</td>\n",
              "      <td>미란이 (Mirani), 먼치맨(MUNCHMAN), Khundi Panda, 머쉬베...</td>\n",
              "      <td>184,718</td>\n",
              "      <td>보여줘야겠어\\n내가 망할 거랬던 놈들에게도\\n내가 잘될 거라 했던 너에게도\\n다 할...</td>\n",
              "      <td>랩/힙합</td>\n",
              "      <td>2020.11.21</td>\n",
              "    </tr>\n",
              "    <tr>\n",
              "      <th>1</th>\n",
              "      <td>1</td>\n",
              "      <td>1월2등</td>\n",
              "      <td>밤하늘의 별을(2020)</td>\n",
              "      <td>경서</td>\n",
              "      <td>153,372</td>\n",
              "      <td>밤하늘의 별을 따서 너에게 줄래\\n너는 내가 사랑하니까\\n더 소중하니까\\n오직 너 ...</td>\n",
              "      <td>발라드</td>\n",
              "      <td>2020.11.14</td>\n",
              "    </tr>\n",
              "    <tr>\n",
              "      <th>2</th>\n",
              "      <td>1</td>\n",
              "      <td>1월3등</td>\n",
              "      <td>Dynamite</td>\n",
              "      <td>방탄소년단</td>\n",
              "      <td>409,862</td>\n",
              "      <td>Cos ah ah\\nI’m in the stars tonight\\nSo watch ...</td>\n",
              "      <td>댄스</td>\n",
              "      <td>2020.08.24</td>\n",
              "    </tr>\n",
              "    <tr>\n",
              "      <th>3</th>\n",
              "      <td>1</td>\n",
              "      <td>1월4등</td>\n",
              "      <td>잠이 오질 않네요</td>\n",
              "      <td>장범준</td>\n",
              "      <td>140,006</td>\n",
              "      <td>당신은 날 설레게 만들어\\n조용한 내 마음 자꾸만 춤추게 해\\n얼마나 얼마나 날 떨...</td>\n",
              "      <td>발라드</td>\n",
              "      <td>2020.10.24</td>\n",
              "    </tr>\n",
              "    <tr>\n",
              "      <th>4</th>\n",
              "      <td>1</td>\n",
              "      <td>1월5등</td>\n",
              "      <td>Lovesick Girls</td>\n",
              "      <td>BLACKPINK</td>\n",
              "      <td>190,329</td>\n",
              "      <td>영원한 밤\\n창문 없는 방에 우릴 가둔 love\\nWhat can we say\\n매...</td>\n",
              "      <td>댄스</td>\n",
              "      <td>2020.10.02</td>\n",
              "    </tr>\n",
              "    <tr>\n",
              "      <th>...</th>\n",
              "      <td>...</td>\n",
              "      <td>...</td>\n",
              "      <td>...</td>\n",
              "      <td>...</td>\n",
              "      <td>...</td>\n",
              "      <td>...</td>\n",
              "      <td>...</td>\n",
              "      <td>...</td>\n",
              "    </tr>\n",
              "    <tr>\n",
              "      <th>245</th>\n",
              "      <td>5</td>\n",
              "      <td>5월46등</td>\n",
              "      <td>힘든 건 사랑이 아니다</td>\n",
              "      <td>임창정</td>\n",
              "      <td>104,688</td>\n",
              "      <td>내가 널 떠났어야 했는데 왜 떠나야 하는지도 아는데\\n어떤 아무 말도 아무것도 줄 ...</td>\n",
              "      <td>발라드</td>\n",
              "      <td>2020.10.19</td>\n",
              "    </tr>\n",
              "    <tr>\n",
              "      <th>246</th>\n",
              "      <td>5</td>\n",
              "      <td>5월47등</td>\n",
              "      <td>아로하</td>\n",
              "      <td>조정석</td>\n",
              "      <td>218,520</td>\n",
              "      <td>어두운 불빛아래 촛불 하나\\n와인 잔에 담긴 약속하나\\n항상 너의 곁에서 널 지켜줄...</td>\n",
              "      <td>발라드, 국내드라마</td>\n",
              "      <td>2020.03.27</td>\n",
              "    </tr>\n",
              "    <tr>\n",
              "      <th>247</th>\n",
              "      <td>5</td>\n",
              "      <td>5월48등</td>\n",
              "      <td>너의 번호를 누르고 (Prod. 영화처럼)</td>\n",
              "      <td>#안녕</td>\n",
              "      <td>77,853</td>\n",
              "      <td>우연히 너를 만나서\\n너의 옆자리에 앉아\\n그렇게 우린 친해졌어\\n짧은 시간에 그렇...</td>\n",
              "      <td>발라드, 인디음악</td>\n",
              "      <td>2019.11.30</td>\n",
              "    </tr>\n",
              "    <tr>\n",
              "      <th>248</th>\n",
              "      <td>5</td>\n",
              "      <td>5월49등</td>\n",
              "      <td>너의 발걸음에 빛을 비춰줄게 (Prod. 조영수)</td>\n",
              "      <td>케이시 (Kassy)</td>\n",
              "      <td>24,229</td>\n",
              "      <td>언제나 너의 곁에 있어 줄게\\n눈부시게 빛나 모든 날들이\\n세상 모두가 변한다 해도...</td>\n",
              "      <td>발라드</td>\n",
              "      <td>2021.04.27</td>\n",
              "    </tr>\n",
              "    <tr>\n",
              "      <th>249</th>\n",
              "      <td>5</td>\n",
              "      <td>5월50등</td>\n",
              "      <td>사실 나는 (Feat.전건호)</td>\n",
              "      <td>경서예지</td>\n",
              "      <td>74,956</td>\n",
              "      <td>그땐 우리 둘 다 철없이\\n어리기만 했나 봐\\n태어나 처음 설레는\\n너를 만나서 세...</td>\n",
              "      <td>발라드</td>\n",
              "      <td>2020.04.12</td>\n",
              "    </tr>\n",
              "  </tbody>\n",
              "</table>\n",
              "<p>250 rows × 8 columns</p>\n",
              "</div>"
            ],
            "text/plain": [
              "     month ranking  ...       genre        date\n",
              "0        1    1월1등  ...        랩/힙합  2020.11.21\n",
              "1        1    1월2등  ...         발라드  2020.11.14\n",
              "2        1    1월3등  ...          댄스  2020.08.24\n",
              "3        1    1월4등  ...         발라드  2020.10.24\n",
              "4        1    1월5등  ...          댄스  2020.10.02\n",
              "..     ...     ...  ...         ...         ...\n",
              "245      5   5월46등  ...         발라드  2020.10.19\n",
              "246      5   5월47등  ...  발라드, 국내드라마  2020.03.27\n",
              "247      5   5월48등  ...   발라드, 인디음악  2019.11.30\n",
              "248      5   5월49등  ...         발라드  2021.04.27\n",
              "249      5   5월50등  ...         발라드  2020.04.12\n",
              "\n",
              "[250 rows x 8 columns]"
            ]
          },
          "metadata": {
            "tags": []
          },
          "execution_count": 17
        }
      ]
    },
    {
      "cell_type": "code",
      "metadata": {
        "id": "mX9c63RdvbIZ"
      },
      "source": [
        "import numpy as np"
      ],
      "execution_count": 18,
      "outputs": []
    },
    {
      "cell_type": "code",
      "metadata": {
        "colab": {
          "base_uri": "https://localhost:8080/"
        },
        "id": "7ySipNXSxe0W",
        "outputId": "1e1777af-e3e4-4c6c-eb85-57ae6b270200"
      },
      "source": [
        "df.info()"
      ],
      "execution_count": 20,
      "outputs": [
        {
          "output_type": "stream",
          "text": [
            "<class 'pandas.core.frame.DataFrame'>\n",
            "RangeIndex: 250 entries, 0 to 249\n",
            "Data columns (total 8 columns):\n",
            " #   Column   Non-Null Count  Dtype \n",
            "---  ------   --------------  ----- \n",
            " 0   month    250 non-null    int64 \n",
            " 1   ranking  250 non-null    object\n",
            " 2   title    250 non-null    object\n",
            " 3   artist   250 non-null    object\n",
            " 4   like     250 non-null    object\n",
            " 5   lyric    250 non-null    object\n",
            " 6   genre    250 non-null    object\n",
            " 7   date     250 non-null    object\n",
            "dtypes: int64(1), object(7)\n",
            "memory usage: 15.8+ KB\n"
          ],
          "name": "stdout"
        }
      ]
    },
    {
      "cell_type": "code",
      "metadata": {
        "colab": {
          "base_uri": "https://localhost:8080/"
        },
        "id": "WqTlR-ZPxkbC",
        "outputId": "3bdbebf3-6960-401b-eaad-c6b106e971aa"
      },
      "source": [
        "df.isna().sum()"
      ],
      "execution_count": 22,
      "outputs": [
        {
          "output_type": "execute_result",
          "data": {
            "text/plain": [
              "month      0\n",
              "ranking    0\n",
              "title      0\n",
              "artist     0\n",
              "like       0\n",
              "lyric      0\n",
              "genre      0\n",
              "date       0\n",
              "dtype: int64"
            ]
          },
          "metadata": {
            "tags": []
          },
          "execution_count": 22
        }
      ]
    },
    {
      "cell_type": "code",
      "metadata": {
        "colab": {
          "base_uri": "https://localhost:8080/"
        },
        "id": "Lcw9HAMGxoH9",
        "outputId": "2a5d58f3-a698-4c27-cc67-92c56b938ff8"
      },
      "source": [
        "np.unique(df['genre'],return_counts=True)"
      ],
      "execution_count": 23,
      "outputs": [
        {
          "output_type": "execute_result",
          "data": {
            "text/plain": [
              "(array(['R&B/Soul', 'R&B/Soul, 인디음악', '댄스', '랩/힙합', '랩/힙합, 인디음악', '록/메탈',\n",
              "        '록/메탈, 국내드라마', '발라드', '발라드, 국내드라마', '발라드, 인디음악', '인디음악, 포크/블루스',\n",
              "        '포크/블루스'], dtype=object),\n",
              " array([10,  4, 64, 34,  4, 14,  8, 76, 17, 12,  5,  2]))"
            ]
          },
          "metadata": {
            "tags": []
          },
          "execution_count": 23
        }
      ]
    },
    {
      "cell_type": "code",
      "metadata": {
        "id": "qMdateuBxuNC"
      },
      "source": [
        "df['lyric'] = [(df['lyric'][i]).replace('\\n',' ') for i in range(len(df['lyric']))]"
      ],
      "execution_count": 27,
      "outputs": []
    },
    {
      "cell_type": "code",
      "metadata": {
        "colab": {
          "base_uri": "https://localhost:8080/",
          "height": 555
        },
        "id": "KV85DM45x4vC",
        "outputId": "291b8ba2-337d-4622-877e-f8d1a0f91fb8"
      },
      "source": [
        "df"
      ],
      "execution_count": 28,
      "outputs": [
        {
          "output_type": "execute_result",
          "data": {
            "text/html": [
              "<div>\n",
              "<style scoped>\n",
              "    .dataframe tbody tr th:only-of-type {\n",
              "        vertical-align: middle;\n",
              "    }\n",
              "\n",
              "    .dataframe tbody tr th {\n",
              "        vertical-align: top;\n",
              "    }\n",
              "\n",
              "    .dataframe thead th {\n",
              "        text-align: right;\n",
              "    }\n",
              "</style>\n",
              "<table border=\"1\" class=\"dataframe\">\n",
              "  <thead>\n",
              "    <tr style=\"text-align: right;\">\n",
              "      <th></th>\n",
              "      <th>month</th>\n",
              "      <th>ranking</th>\n",
              "      <th>title</th>\n",
              "      <th>artist</th>\n",
              "      <th>like</th>\n",
              "      <th>lyric</th>\n",
              "      <th>genre</th>\n",
              "      <th>date</th>\n",
              "    </tr>\n",
              "  </thead>\n",
              "  <tbody>\n",
              "    <tr>\n",
              "      <th>0</th>\n",
              "      <td>1</td>\n",
              "      <td>1월1등</td>\n",
              "      <td>VVS (Feat. JUSTHIS) (Prod. GroovyRoom)</td>\n",
              "      <td>미란이 (Mirani), 먼치맨(MUNCHMAN), Khundi Panda, 머쉬베...</td>\n",
              "      <td>184,718</td>\n",
              "      <td>보여줘야겠어 내가 망할 거랬던 놈들에게도 내가 잘될 거라 했던 너에게도 다 할게 최...</td>\n",
              "      <td>랩/힙합</td>\n",
              "      <td>2020.11.21</td>\n",
              "    </tr>\n",
              "    <tr>\n",
              "      <th>1</th>\n",
              "      <td>1</td>\n",
              "      <td>1월2등</td>\n",
              "      <td>밤하늘의 별을(2020)</td>\n",
              "      <td>경서</td>\n",
              "      <td>153,372</td>\n",
              "      <td>밤하늘의 별을 따서 너에게 줄래 너는 내가 사랑하니까 더 소중하니까 오직 너 아니면...</td>\n",
              "      <td>발라드</td>\n",
              "      <td>2020.11.14</td>\n",
              "    </tr>\n",
              "    <tr>\n",
              "      <th>2</th>\n",
              "      <td>1</td>\n",
              "      <td>1월3등</td>\n",
              "      <td>Dynamite</td>\n",
              "      <td>방탄소년단</td>\n",
              "      <td>409,862</td>\n",
              "      <td>Cos ah ah I’m in the stars tonight So watch me...</td>\n",
              "      <td>댄스</td>\n",
              "      <td>2020.08.24</td>\n",
              "    </tr>\n",
              "    <tr>\n",
              "      <th>3</th>\n",
              "      <td>1</td>\n",
              "      <td>1월4등</td>\n",
              "      <td>잠이 오질 않네요</td>\n",
              "      <td>장범준</td>\n",
              "      <td>140,006</td>\n",
              "      <td>당신은 날 설레게 만들어 조용한 내 마음 자꾸만 춤추게 해 얼마나 얼마나 날 떨리게...</td>\n",
              "      <td>발라드</td>\n",
              "      <td>2020.10.24</td>\n",
              "    </tr>\n",
              "    <tr>\n",
              "      <th>4</th>\n",
              "      <td>1</td>\n",
              "      <td>1월5등</td>\n",
              "      <td>Lovesick Girls</td>\n",
              "      <td>BLACKPINK</td>\n",
              "      <td>190,329</td>\n",
              "      <td>영원한 밤 창문 없는 방에 우릴 가둔 love What can we say 매번 아...</td>\n",
              "      <td>댄스</td>\n",
              "      <td>2020.10.02</td>\n",
              "    </tr>\n",
              "    <tr>\n",
              "      <th>...</th>\n",
              "      <td>...</td>\n",
              "      <td>...</td>\n",
              "      <td>...</td>\n",
              "      <td>...</td>\n",
              "      <td>...</td>\n",
              "      <td>...</td>\n",
              "      <td>...</td>\n",
              "      <td>...</td>\n",
              "    </tr>\n",
              "    <tr>\n",
              "      <th>245</th>\n",
              "      <td>5</td>\n",
              "      <td>5월46등</td>\n",
              "      <td>힘든 건 사랑이 아니다</td>\n",
              "      <td>임창정</td>\n",
              "      <td>104,688</td>\n",
              "      <td>내가 널 떠났어야 했는데 왜 떠나야 하는지도 아는데 어떤 아무 말도 아무것도 줄 게...</td>\n",
              "      <td>발라드</td>\n",
              "      <td>2020.10.19</td>\n",
              "    </tr>\n",
              "    <tr>\n",
              "      <th>246</th>\n",
              "      <td>5</td>\n",
              "      <td>5월47등</td>\n",
              "      <td>아로하</td>\n",
              "      <td>조정석</td>\n",
              "      <td>218,520</td>\n",
              "      <td>어두운 불빛아래 촛불 하나 와인 잔에 담긴 약속하나 항상 너의 곁에서 널 지켜줄거야...</td>\n",
              "      <td>발라드, 국내드라마</td>\n",
              "      <td>2020.03.27</td>\n",
              "    </tr>\n",
              "    <tr>\n",
              "      <th>247</th>\n",
              "      <td>5</td>\n",
              "      <td>5월48등</td>\n",
              "      <td>너의 번호를 누르고 (Prod. 영화처럼)</td>\n",
              "      <td>#안녕</td>\n",
              "      <td>77,853</td>\n",
              "      <td>우연히 너를 만나서 너의 옆자리에 앉아 그렇게 우린 친해졌어 짧은 시간에 그렇게 가...</td>\n",
              "      <td>발라드, 인디음악</td>\n",
              "      <td>2019.11.30</td>\n",
              "    </tr>\n",
              "    <tr>\n",
              "      <th>248</th>\n",
              "      <td>5</td>\n",
              "      <td>5월49등</td>\n",
              "      <td>너의 발걸음에 빛을 비춰줄게 (Prod. 조영수)</td>\n",
              "      <td>케이시 (Kassy)</td>\n",
              "      <td>24,229</td>\n",
              "      <td>언제나 너의 곁에 있어 줄게 눈부시게 빛나 모든 날들이 세상 모두가 변한다 해도 변...</td>\n",
              "      <td>발라드</td>\n",
              "      <td>2021.04.27</td>\n",
              "    </tr>\n",
              "    <tr>\n",
              "      <th>249</th>\n",
              "      <td>5</td>\n",
              "      <td>5월50등</td>\n",
              "      <td>사실 나는 (Feat.전건호)</td>\n",
              "      <td>경서예지</td>\n",
              "      <td>74,956</td>\n",
              "      <td>그땐 우리 둘 다 철없이 어리기만 했나 봐 태어나 처음 설레는 너를 만나서 세상에 ...</td>\n",
              "      <td>발라드</td>\n",
              "      <td>2020.04.12</td>\n",
              "    </tr>\n",
              "  </tbody>\n",
              "</table>\n",
              "<p>250 rows × 8 columns</p>\n",
              "</div>"
            ],
            "text/plain": [
              "     month ranking  ...       genre        date\n",
              "0        1    1월1등  ...        랩/힙합  2020.11.21\n",
              "1        1    1월2등  ...         발라드  2020.11.14\n",
              "2        1    1월3등  ...          댄스  2020.08.24\n",
              "3        1    1월4등  ...         발라드  2020.10.24\n",
              "4        1    1월5등  ...          댄스  2020.10.02\n",
              "..     ...     ...  ...         ...         ...\n",
              "245      5   5월46등  ...         발라드  2020.10.19\n",
              "246      5   5월47등  ...  발라드, 국내드라마  2020.03.27\n",
              "247      5   5월48등  ...   발라드, 인디음악  2019.11.30\n",
              "248      5   5월49등  ...         발라드  2021.04.27\n",
              "249      5   5월50등  ...         발라드  2020.04.12\n",
              "\n",
              "[250 rows x 8 columns]"
            ]
          },
          "metadata": {
            "tags": []
          },
          "execution_count": 28
        }
      ]
    },
    {
      "cell_type": "code",
      "metadata": {
        "colab": {
          "base_uri": "https://localhost:8080/",
          "height": 359
        },
        "id": "yYgYKOOPyRHK",
        "outputId": "b7fe914f-34d4-49bb-dbd6-26e0613de587"
      },
      "source": [
        "df['lyric'][0]"
      ],
      "execution_count": 29,
      "outputs": [
        {
          "output_type": "execute_result",
          "data": {
            "application/vnd.google.colaboratory.intrinsic+json": {
              "type": "string"
            },
            "text/plain": [
              "\"보여줘야겠어 내가 망할 거랬던 놈들에게도 내가 잘될 거라 했던 너에게도 다 할게 최선 갈아끼워 다 새 거 My life's shining like a VVS VVS 내 삶은 빛나 VVS VVS 보란 듯 나와 TV에 Now you see me babe 내 삶은 빛나 VVS VVS Skrt-skrt Hey new water new vv 난 알바 째고 무대 위 Yeah go get it go get it 가사 위 가난이 빛나지 안 가 무한리필 살아봐야겠어 내 빌딩 Yeah 개 같던 세상의 뒤통수 치러 왔지 더 크게 Callin’ ma name 모두 날 보고 놀래 미란이가 TV에 떼버려 Tag 사 새롭게 Yeah yeah 타고 비행 Skrr skrr 난 올라가 Skrr skrr 난 빛이 나 내가 뭐라 했어 Mom 꺼내겠다고 포차 맨 밑바닥의 소녀 엄마의 술병이 날 만들어 허기져 이를 꽉 물어 Chit chat bout me 덤벼 겁쟁이 너 VVS on ma neck 꿈 앞에 녹슨 팔찌 버려 문 앞에 구제 벨트 아직 허리에 원망하던 과거와 춤출래 인디고 카니발 Skrt-skrt 목숨은 다 꺼내놓고 자판기 밑 먼지 덕지덕지 붙은 동전까지 털어-털어 여기까지 왔지 What you know about me 내 속 이야기 털어놓으려 지갑 털어 차린 술상 위 넌 폰만 바라봤잖아 이제 그 스크린에서 날 봐라 I'ma 먹고서 Fly 너가 나갈 건 삔또지 악플들이 돈과 함께 쏟아지니 Got a nice ring to it 꼬우면 네 오빠인지 아저씨인지한테 일러바치고 한 판 더 뜨자 해 빛이 나는 Solo라니까 뭘 그렇게 재니 다 드루와 내 패기 170에 60kg도 안 되지만 국보 1호 MC The Q's certified new king in the rap 내가 TV에 쬐끔 나왔다고 연예인 된 줄 알았다는 이미 넌 패 Bigger stacks bigger schemes Do bigger thang G+Jus like this team I'm blessed 모든 게 끝나고 홍대로 돌아가도 모든 건 변함없겠지 Like this VVS 보여줘야겠어 내가 망할 거랬던 놈들에게도 내가 잘될 거라 했던 너에게도 다 할게 최선 갈아끼워 다 새 거 My life's shining like a VVS VVS 내 삶은 빛나 VVS VVS 보란 듯 나와 TV에 Now you see me babe 내 삶은 빛나 VVS VVS Skrt-skrt Ay 먼치맨 복근에 장착된 VVS 내 행동 위험해 걸리지 심의에 자체 발광 계속해 실시해 날 보고 배워요 EBS 흔들릴 바엔 다 흔들어 흘려온 땀이 내 Career 명품이 없어도 고개를 쳐들어 Keep my head up Keep your head up 걱정도 했었지 DAY N NIGHT 싸워서 만드는 내일의 나 MBA 11명 매일이 Party 난 역시나 함께일 때가 빛나 Imma good vibe GV처럼 춤춰 GOOD BYE 내 사랑아 잘 가 웃자 형은 미련 안 키워 OK 이제 난 노래나 불러 전방에 1분간 함성을 발사 기 모아 발포해 내 에너지파 수직상승 올라가 내 텐션 도레미파 먼치맨 YO YO I AIN't got no lie 이제 빛난대 주변에서 TRUE 어쩌면 너가 응원해서 근데 네 말대로 모두 특별하니까 라면 특별히 뭐가 특별해 더 묻고파도 바뀌었지 마치 내 작업실 앞 거리 짧던 이 사정거리 가사가 다 퍼진 광역시 또 걔가 부럽다는 팔로잉 NOW YOU SEE 삐까번쩍 빛나 벌써 이 밤처럼 시간 없어 바쁜 삶 일단 먼저 필사적으로 덤벼 던져 기회는 한순간 잡았다면 밝게 빛나 그 어떤 래퍼의 목걸이보다도 그 HEARTBEAT 진실의 파동 넌 곧 못 볼 거니 좀 봐둬 내 손목은 비었지만 그건 실은 의도적이야 천리안 없이 난 멀리 봐 머리와 멋진 Rhyme 시급으로 따지면 아마도 천만 원이야 힉 야 못 돌아가 시야가 넓어서 날 부정하려면 너 보여봐라 지금 내가 네게 보여준 것처럼 보여줘야겠어 내가 망할 거랬던 놈들에게도 내가 잘될 거라 했던 너에게도 다 할게 최선 갈아끼워 다 새 거 My life's shining like a VVS VVS 내 삶은 빛나 VVS VVS 보란 듯 나와 TV에 Now you see me babe 내 삶은 빛나 VVS VVS Skrt-skrt 역시 성공은 고난을 동반 말없이 등산을 등반하는 것처럼 I gotta move 하늘에 계신 할매 보고 있습니까 조금 늦었습니다 저 뱀들을 물리치느라 이겨내거라 내일이 없는 듯이 아버지 권투선수 인생 한방이니깐 필요하다 한방이 알겠슴돠 동네의 육상선수 나의 어머니 론다로우지 장애물 따윈 없는 듯이 달려라 태민 You gotta move Let’s go let’s go 멜로디 없던 내 인생 아침 해 다시 꼬기오 술 팔아 쪽 팔아 벌었던 돈 하루 사는 하루살이의 콧노래 후룰룰루 훈화말씀 새 나라의 어린이 아니 뭐 그런 흔한 말씀을 또 Let’s go 요것 좀 봐라 라고 하는 선생 그거 좀 마라 이 멋 좀 봐라 야 걱정하지마 머쉬베놈 월이백에서 이천으로 넌 떠나 서울 to 경기 이천으로 넌 찍어라 브이로그 옜다 저스디스 톤으로 My life's shining like a VVS VVS 내 삶은 빛나 VVS VVS 보란 듯 나와 TV에 Now you see me babe 내 삶은 빛나 VVS VVS Skrt-skrt 왔노라 봤노라 결국 이겨냈노라 펼치기\""
            ]
          },
          "metadata": {
            "tags": []
          },
          "execution_count": 29
        }
      ]
    },
    {
      "cell_type": "code",
      "metadata": {
        "id": "Wy2ilOw8yaYi"
      },
      "source": [
        "import matplotlib.pyplot as plt\n",
        "import seaborn as sns"
      ],
      "execution_count": 30,
      "outputs": []
    },
    {
      "cell_type": "code",
      "metadata": {
        "id": "DmbXws971zlP"
      },
      "source": [
        "genre = [np.unique(df['genre'],return_counts=True)[0]]"
      ],
      "execution_count": 38,
      "outputs": []
    },
    {
      "cell_type": "code",
      "metadata": {
        "colab": {
          "base_uri": "https://localhost:8080/",
          "height": 35
        },
        "id": "odnsmDpM2B5h",
        "outputId": "f0fefa42-9306-4a80-c34d-38dd54e65f50"
      },
      "source": [
        "genre[0][0]"
      ],
      "execution_count": 43,
      "outputs": [
        {
          "output_type": "execute_result",
          "data": {
            "application/vnd.google.colaboratory.intrinsic+json": {
              "type": "string"
            },
            "text/plain": [
              "'R&B/Soul'"
            ]
          },
          "metadata": {
            "tags": []
          },
          "execution_count": 43
        }
      ]
    },
    {
      "cell_type": "code",
      "metadata": {
        "colab": {
          "base_uri": "https://localhost:8080/"
        },
        "id": "nEzSYNJ12Cff",
        "outputId": "5d4e5b1b-bff7-4cd5-db93-daf08af0ba51"
      },
      "source": [
        "!pip install konlp"
      ],
      "execution_count": 1,
      "outputs": [
        {
          "output_type": "stream",
          "text": [
            "Collecting konlp\n",
            "\u001b[?25l  Downloading https://files.pythonhosted.org/packages/05/f4/c0f2c50a690bfa0bb15e29bf069ee110de36a46e58fed8dc62895bacda53/konlp-0.0.16-py3-none-any.whl (48.1MB)\n",
            "\u001b[K     |████████████████████████████████| 48.1MB 62kB/s \n",
            "\u001b[?25hCollecting coveralls==1.1\n",
            "  Downloading https://files.pythonhosted.org/packages/81/f9/da2ad9334f60e418cb229c58724330be2635b369676d3eec8f61e1f85faa/coveralls-1.1-py2.py3-none-any.whl\n",
            "Requirement already satisfied: tensorflow>=1.8.0 in /usr/local/lib/python3.7/dist-packages (from konlp) (2.5.0)\n",
            "Collecting pyjnius\n",
            "\u001b[?25l  Downloading https://files.pythonhosted.org/packages/ea/b1/e33db12a20efe28b20fbcf4efc9b95a934954587cd7aa5998987a22e8885/pyjnius-1.3.0-cp37-cp37m-manylinux2010_x86_64.whl (1.1MB)\n",
            "\u001b[K     |████████████████████████████████| 1.1MB 23.8MB/s \n",
            "\u001b[?25hCollecting JPype1-py3>=0.5.5.1\n",
            "\u001b[?25l  Downloading https://files.pythonhosted.org/packages/9b/81/63f5e4202c598f362ee4684b41890f993d6e58309c5d90703f570ab85f62/JPype1-py3-0.5.5.4.tar.gz (88kB)\n",
            "\u001b[K     |████████████████████████████████| 92kB 8.0MB/s \n",
            "\u001b[?25hCollecting pytest-cov==2.4.0\n",
            "  Downloading https://files.pythonhosted.org/packages/85/e6/f041bcf77bcf7bf11ccb9b8a6cdb3a2ee70c1bd2ab49d87d2269cfd4f3e0/pytest_cov-2.4.0-py2.py3-none-any.whl\n",
            "Requirement already satisfied: docopt>=0.6.1 in /usr/local/lib/python3.7/dist-packages (from coveralls==1.1->konlp) (0.6.2)\n",
            "Requirement already satisfied: coverage>=3.6 in /usr/local/lib/python3.7/dist-packages (from coveralls==1.1->konlp) (3.7.1)\n",
            "Requirement already satisfied: requests>=1.0.0 in /usr/local/lib/python3.7/dist-packages (from coveralls==1.1->konlp) (2.23.0)\n",
            "Requirement already satisfied: grpcio~=1.34.0 in /usr/local/lib/python3.7/dist-packages (from tensorflow>=1.8.0->konlp) (1.34.1)\n",
            "Requirement already satisfied: gast==0.4.0 in /usr/local/lib/python3.7/dist-packages (from tensorflow>=1.8.0->konlp) (0.4.0)\n",
            "Requirement already satisfied: tensorboard~=2.5 in /usr/local/lib/python3.7/dist-packages (from tensorflow>=1.8.0->konlp) (2.5.0)\n",
            "Requirement already satisfied: typing-extensions~=3.7.4 in /usr/local/lib/python3.7/dist-packages (from tensorflow>=1.8.0->konlp) (3.7.4.3)\n",
            "Requirement already satisfied: astunparse~=1.6.3 in /usr/local/lib/python3.7/dist-packages (from tensorflow>=1.8.0->konlp) (1.6.3)\n",
            "Requirement already satisfied: six~=1.15.0 in /usr/local/lib/python3.7/dist-packages (from tensorflow>=1.8.0->konlp) (1.15.0)\n",
            "Requirement already satisfied: google-pasta~=0.2 in /usr/local/lib/python3.7/dist-packages (from tensorflow>=1.8.0->konlp) (0.2.0)\n",
            "Requirement already satisfied: numpy~=1.19.2 in /usr/local/lib/python3.7/dist-packages (from tensorflow>=1.8.0->konlp) (1.19.5)\n",
            "Requirement already satisfied: opt-einsum~=3.3.0 in /usr/local/lib/python3.7/dist-packages (from tensorflow>=1.8.0->konlp) (3.3.0)\n",
            "Requirement already satisfied: termcolor~=1.1.0 in /usr/local/lib/python3.7/dist-packages (from tensorflow>=1.8.0->konlp) (1.1.0)\n",
            "Requirement already satisfied: wheel~=0.35 in /usr/local/lib/python3.7/dist-packages (from tensorflow>=1.8.0->konlp) (0.36.2)\n",
            "Requirement already satisfied: h5py~=3.1.0 in /usr/local/lib/python3.7/dist-packages (from tensorflow>=1.8.0->konlp) (3.1.0)\n",
            "Requirement already satisfied: absl-py~=0.10 in /usr/local/lib/python3.7/dist-packages (from tensorflow>=1.8.0->konlp) (0.12.0)\n",
            "Requirement already satisfied: keras-preprocessing~=1.1.2 in /usr/local/lib/python3.7/dist-packages (from tensorflow>=1.8.0->konlp) (1.1.2)\n",
            "Requirement already satisfied: protobuf>=3.9.2 in /usr/local/lib/python3.7/dist-packages (from tensorflow>=1.8.0->konlp) (3.12.4)\n",
            "Requirement already satisfied: keras-nightly~=2.5.0.dev in /usr/local/lib/python3.7/dist-packages (from tensorflow>=1.8.0->konlp) (2.5.0.dev2021032900)\n",
            "Requirement already satisfied: wrapt~=1.12.1 in /usr/local/lib/python3.7/dist-packages (from tensorflow>=1.8.0->konlp) (1.12.1)\n",
            "Requirement already satisfied: tensorflow-estimator<2.6.0,>=2.5.0rc0 in /usr/local/lib/python3.7/dist-packages (from tensorflow>=1.8.0->konlp) (2.5.0)\n",
            "Requirement already satisfied: flatbuffers~=1.12.0 in /usr/local/lib/python3.7/dist-packages (from tensorflow>=1.8.0->konlp) (1.12)\n",
            "Requirement already satisfied: cython in /usr/local/lib/python3.7/dist-packages (from pyjnius->konlp) (0.29.23)\n",
            "Requirement already satisfied: pytest>=2.6.0 in /usr/local/lib/python3.7/dist-packages (from pytest-cov==2.4.0->konlp) (3.6.4)\n",
            "Requirement already satisfied: chardet<4,>=3.0.2 in /usr/local/lib/python3.7/dist-packages (from requests>=1.0.0->coveralls==1.1->konlp) (3.0.4)\n",
            "Requirement already satisfied: idna<3,>=2.5 in /usr/local/lib/python3.7/dist-packages (from requests>=1.0.0->coveralls==1.1->konlp) (2.10)\n",
            "Requirement already satisfied: urllib3!=1.25.0,!=1.25.1,<1.26,>=1.21.1 in /usr/local/lib/python3.7/dist-packages (from requests>=1.0.0->coveralls==1.1->konlp) (1.24.3)\n",
            "Requirement already satisfied: certifi>=2017.4.17 in /usr/local/lib/python3.7/dist-packages (from requests>=1.0.0->coveralls==1.1->konlp) (2021.5.30)\n",
            "Requirement already satisfied: tensorboard-plugin-wit>=1.6.0 in /usr/local/lib/python3.7/dist-packages (from tensorboard~=2.5->tensorflow>=1.8.0->konlp) (1.8.0)\n",
            "Requirement already satisfied: google-auth<2,>=1.6.3 in /usr/local/lib/python3.7/dist-packages (from tensorboard~=2.5->tensorflow>=1.8.0->konlp) (1.31.0)\n",
            "Requirement already satisfied: google-auth-oauthlib<0.5,>=0.4.1 in /usr/local/lib/python3.7/dist-packages (from tensorboard~=2.5->tensorflow>=1.8.0->konlp) (0.4.4)\n",
            "Requirement already satisfied: tensorboard-data-server<0.7.0,>=0.6.0 in /usr/local/lib/python3.7/dist-packages (from tensorboard~=2.5->tensorflow>=1.8.0->konlp) (0.6.1)\n",
            "Requirement already satisfied: markdown>=2.6.8 in /usr/local/lib/python3.7/dist-packages (from tensorboard~=2.5->tensorflow>=1.8.0->konlp) (3.3.4)\n",
            "Requirement already satisfied: setuptools>=41.0.0 in /usr/local/lib/python3.7/dist-packages (from tensorboard~=2.5->tensorflow>=1.8.0->konlp) (57.0.0)\n",
            "Requirement already satisfied: werkzeug>=0.11.15 in /usr/local/lib/python3.7/dist-packages (from tensorboard~=2.5->tensorflow>=1.8.0->konlp) (1.0.1)\n",
            "Requirement already satisfied: cached-property; python_version < \"3.8\" in /usr/local/lib/python3.7/dist-packages (from h5py~=3.1.0->tensorflow>=1.8.0->konlp) (1.5.2)\n",
            "Requirement already satisfied: attrs>=17.4.0 in /usr/local/lib/python3.7/dist-packages (from pytest>=2.6.0->pytest-cov==2.4.0->konlp) (21.2.0)\n",
            "Requirement already satisfied: py>=1.5.0 in /usr/local/lib/python3.7/dist-packages (from pytest>=2.6.0->pytest-cov==2.4.0->konlp) (1.10.0)\n",
            "Requirement already satisfied: more-itertools>=4.0.0 in /usr/local/lib/python3.7/dist-packages (from pytest>=2.6.0->pytest-cov==2.4.0->konlp) (8.8.0)\n",
            "Requirement already satisfied: atomicwrites>=1.0 in /usr/local/lib/python3.7/dist-packages (from pytest>=2.6.0->pytest-cov==2.4.0->konlp) (1.4.0)\n",
            "Requirement already satisfied: pluggy<0.8,>=0.5 in /usr/local/lib/python3.7/dist-packages (from pytest>=2.6.0->pytest-cov==2.4.0->konlp) (0.7.1)\n",
            "Requirement already satisfied: cachetools<5.0,>=2.0.0 in /usr/local/lib/python3.7/dist-packages (from google-auth<2,>=1.6.3->tensorboard~=2.5->tensorflow>=1.8.0->konlp) (4.2.2)\n",
            "Requirement already satisfied: rsa<5,>=3.1.4; python_version >= \"3.6\" in /usr/local/lib/python3.7/dist-packages (from google-auth<2,>=1.6.3->tensorboard~=2.5->tensorflow>=1.8.0->konlp) (4.7.2)\n",
            "Requirement already satisfied: pyasn1-modules>=0.2.1 in /usr/local/lib/python3.7/dist-packages (from google-auth<2,>=1.6.3->tensorboard~=2.5->tensorflow>=1.8.0->konlp) (0.2.8)\n",
            "Requirement already satisfied: requests-oauthlib>=0.7.0 in /usr/local/lib/python3.7/dist-packages (from google-auth-oauthlib<0.5,>=0.4.1->tensorboard~=2.5->tensorflow>=1.8.0->konlp) (1.3.0)\n",
            "Requirement already satisfied: importlib-metadata; python_version < \"3.8\" in /usr/local/lib/python3.7/dist-packages (from markdown>=2.6.8->tensorboard~=2.5->tensorflow>=1.8.0->konlp) (4.5.0)\n",
            "Requirement already satisfied: pyasn1>=0.1.3 in /usr/local/lib/python3.7/dist-packages (from rsa<5,>=3.1.4; python_version >= \"3.6\"->google-auth<2,>=1.6.3->tensorboard~=2.5->tensorflow>=1.8.0->konlp) (0.4.8)\n",
            "Requirement already satisfied: oauthlib>=3.0.0 in /usr/local/lib/python3.7/dist-packages (from requests-oauthlib>=0.7.0->google-auth-oauthlib<0.5,>=0.4.1->tensorboard~=2.5->tensorflow>=1.8.0->konlp) (3.1.1)\n",
            "Requirement already satisfied: zipp>=0.5 in /usr/local/lib/python3.7/dist-packages (from importlib-metadata; python_version < \"3.8\"->markdown>=2.6.8->tensorboard~=2.5->tensorflow>=1.8.0->konlp) (3.4.1)\n",
            "Building wheels for collected packages: JPype1-py3\n",
            "  Building wheel for JPype1-py3 (setup.py) ... \u001b[?25l\u001b[?25hdone\n",
            "  Created wheel for JPype1-py3: filename=JPype1_py3-0.5.5.4-cp37-cp37m-linux_x86_64.whl size=2681948 sha256=9e4653c7eda19913144088939afc5c839dd8dda216e5f15d806bda89614ec6ba\n",
            "  Stored in directory: /root/.cache/pip/wheels/52/37/1f/1015d908d12a0e9b239543d031fda0cded9823aa1306939541\n",
            "Successfully built JPype1-py3\n",
            "\u001b[31mERROR: datascience 0.10.6 has requirement coveralls==0.5, but you'll have coveralls 1.1 which is incompatible.\u001b[0m\n",
            "\u001b[31mERROR: datascience 0.10.6 has requirement folium==0.2.1, but you'll have folium 0.8.3 which is incompatible.\u001b[0m\n",
            "Installing collected packages: coveralls, pyjnius, JPype1-py3, pytest-cov, konlp\n",
            "  Found existing installation: coveralls 0.5\n",
            "    Uninstalling coveralls-0.5:\n",
            "      Successfully uninstalled coveralls-0.5\n",
            "Successfully installed JPype1-py3-0.5.5.4 coveralls-1.1 konlp-0.0.16 pyjnius-1.3.0 pytest-cov-2.4.0\n"
          ],
          "name": "stdout"
        }
      ]
    }
  ]
}